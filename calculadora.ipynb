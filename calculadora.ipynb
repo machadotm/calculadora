{
 "cells": [
  {
   "cell_type": "markdown",
   "id": "f104ab6b",
   "metadata": {},
   "source": [
    "# Calculadora em Python"
   ]
  },
  {
   "cell_type": "code",
   "execution_count": 37,
   "id": "6e4d2ed3",
   "metadata": {},
   "outputs": [
    {
     "name": "stdout",
     "output_type": "stream",
     "text": [
      "Selecione o número da operação desejada:\n",
      "\n",
      "1- Soma\n",
      "2- Subtração\n",
      "3- Multiplicação\n",
      "4- Divisão\n",
      "\n",
      "Digite sua opção(1/2/3/4): 9\n",
      "Valor inválido! Digite 1 ou 2 ou 3 ou 4: \n",
      "Selecione o número da operação desejada:\n",
      "\n",
      "1- Soma\n",
      "2- Subtração\n",
      "3- Multiplicação\n",
      "4- Divisão\n",
      "\n",
      "Digite sua opção(1/2/3/4): 4\n"
     ]
    }
   ],
   "source": [
    "while True:\n",
    "    operacao = int(input('Selecione o número da operação desejada:\\n\\n1- Soma\\n2- Subtração\\n3- Multiplicação\\n4- Divisão\\n\\nDigite sua opção(1/2/3/4): '))\n",
    "    if operacao in [1, 2, 3, 4]:\n",
    "        break\n",
    "    else:\n",
    "        print('Valor inválido! Digite 1 ou 2 ou 3 ou 4: ')"
   ]
  },
  {
   "cell_type": "code",
   "execution_count": 38,
   "id": "f580c6f6",
   "metadata": {},
   "outputs": [
    {
     "name": "stdout",
     "output_type": "stream",
     "text": [
      "Digite o primeiro número: 20\n"
     ]
    }
   ],
   "source": [
    "num1 = int(input('Digite o primeiro número: '))"
   ]
  },
  {
   "cell_type": "code",
   "execution_count": 39,
   "id": "06599d8c",
   "metadata": {},
   "outputs": [
    {
     "name": "stdout",
     "output_type": "stream",
     "text": [
      "Digite o segundo número: 4\n"
     ]
    }
   ],
   "source": [
    "num2 = int(input('Digite o segundo número: '))"
   ]
  },
  {
   "cell_type": "code",
   "execution_count": 40,
   "id": "b179acb5",
   "metadata": {},
   "outputs": [
    {
     "name": "stdout",
     "output_type": "stream",
     "text": [
      "20 / 4 = 5.0\n"
     ]
    }
   ],
   "source": [
    "if operacao ==1:\n",
    "    soma = num1+num2\n",
    "    print(num1,'+',num2,'=',soma)\n",
    "elif operacao ==2:\n",
    "    subtracao = num1-num2\n",
    "    print(num1,'-',num2,'=',subtracao)\n",
    "elif operacao ==3:\n",
    "    multiplicacao = num1 * num2\n",
    "    print(num1,'*',num2,'=',multiplicacao)\n",
    "else:\n",
    "    divisao = num1/num2\n",
    "    print(num1,'/',num2,'=',divisao)"
   ]
  },
  {
   "cell_type": "code",
   "execution_count": null,
   "id": "1f29f11d",
   "metadata": {},
   "outputs": [],
   "source": []
  }
 ],
 "metadata": {
  "kernelspec": {
   "display_name": "Python 3 (ipykernel)",
   "language": "python",
   "name": "python3"
  },
  "language_info": {
   "codemirror_mode": {
    "name": "ipython",
    "version": 3
   },
   "file_extension": ".py",
   "mimetype": "text/x-python",
   "name": "python",
   "nbconvert_exporter": "python",
   "pygments_lexer": "ipython3",
   "version": "3.9.13"
  }
 },
 "nbformat": 4,
 "nbformat_minor": 5
}
